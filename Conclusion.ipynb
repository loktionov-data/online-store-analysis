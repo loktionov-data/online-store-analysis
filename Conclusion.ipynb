{
 "cells": [
  {
   "cell_type": "markdown",
   "id": "36c569ac-0865-4972-bdd1-b12a1b5b5b8f",
   "metadata": {},
   "source": [
    "# Conslusions\n",
    "\n",
    " This online market is a successful small project.\n",
    "Almost **10000 orders** were made on the web page on the period from 01-2014 till 01-2018. Orders were made in different regions covering the whole USA.\n",
    "Total profit made during all the period is **286397.02$**\n",
    "\n",
    "### Categories\n",
    " The most profitable category is technology. The lowest profit is received from the furniture. It gives 9x less profit than technology.\n",
    "Moreover, according to the sales data, 3 out of 5 most sellable products are from the technology category. Maybe we should concentrate more on developing technology market and less on furniture.\n",
    "\n",
    "### Clients\n",
    "We receive money thanks to our clients who trust us and buy our products. There is top-5 of our clients by profit they gave us:\n",
    "1. *Tamara Chand*\n",
    "2. *Raymond Buch*\n",
    "3. *Sanjit Chund*\n",
    "4. *Hunter Lopez*\n",
    "5. *Adrian Barton*\n",
    " We shouldn't forget about them. They gave us totally almost *40000$* of profit for this period of time. I suppose giving them some priveleges like *VIP status*  or discounts on some products. That will make a good relationship between a shop and a customer. Additionally it will show other customers that shopping on our page isn't worthless.\n",
    "\n",
    "### Seasons\n",
    " Season analysis shows as very clear trend which repeats each year. The first two months of the year are always the least successful. However the next months show the sales growth until the end of the year. The month with the most orders made is November. That could be caused by the Black Friday, which always creates a lot of discounts. The second most successful month each year is December. Maybe the reason of high activity is holidays. All the people are buying presents for their friends and families. Since the year 2017 we sell more products than average almost each month.\n",
    "\n",
    "### Regions\n",
    "As it was earlier mentioned, our shop has orders from all the regions of America. The western region provides us the most profit and the most orders while the central region is the least profitable. According to the patterns, there are some cities that have ***the most negative profit***. They are:\n",
    "+ ***Philadelphia***\n",
    "+ ***Houston***\n",
    "+ ***San Antonio***\n",
    "+ ***Lancaster***\n",
    "+ ***Chicago***\n",
    "  \n",
    " Each of these cities has negative profit more than -5000$. The situation should be fixed. Maybe we should strengthen our marketing in the Central region of our country and stop selling and producing our products in previously listed cities.\n",
    "\n",
    "## *Total conclusion*\n",
    " From the results of the analysis we can see that our shop has strong positions in the West of our country. But department in the cental part needs to be developed. The least sellable category is furniture. It should be removed or recreated. The end of the year is stable the most profitable for us. Since the year 2016 we sell products than average."
   ]
  },
  {
   "cell_type": "code",
   "execution_count": null,
   "id": "07eb7c14-822f-4d94-8e73-3363713068fd",
   "metadata": {},
   "outputs": [],
   "source": []
  }
 ],
 "metadata": {
  "kernelspec": {
   "display_name": "Python 3 (ipykernel)",
   "language": "python",
   "name": "python3"
  },
  "language_info": {
   "codemirror_mode": {
    "name": "ipython",
    "version": 3
   },
   "file_extension": ".py",
   "mimetype": "text/x-python",
   "name": "python",
   "nbconvert_exporter": "python",
   "pygments_lexer": "ipython3",
   "version": "3.10.0rc2"
  }
 },
 "nbformat": 4,
 "nbformat_minor": 5
}
